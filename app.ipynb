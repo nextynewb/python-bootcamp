{
 "cells": [
  {
   "cell_type": "code",
   "execution_count": 2,
   "id": "bc2c48f1",
   "metadata": {},
   "outputs": [
    {
     "name": "stdout",
     "output_type": "stream",
     "text": [
      "Hello World\n"
     ]
    }
   ],
   "source": [
    "print('Hello World')"
   ]
  },
  {
   "cell_type": "code",
   "execution_count": 4,
   "id": "1de59c53",
   "metadata": {},
   "outputs": [
    {
     "name": "stdout",
     "output_type": "stream",
     "text": [
      "Hello World\n"
     ]
    }
   ],
   "source": [
    "\"\"\"\n",
    "This is Hello World\n",
    "kjkjkjkkjk\n",
    "\"\"\"\n",
    "\n",
    "# LOL\n",
    "\n",
    "print('Hello World')\n",
    "\n"
   ]
  },
  {
   "cell_type": "code",
   "execution_count": 13,
   "id": "1a6c71cc",
   "metadata": {},
   "outputs": [
    {
     "name": "stdout",
     "output_type": "stream",
     "text": [
      "Hello Rahman\n",
      "Hello Rahman\n",
      "Hello Rahman \n",
      "Hello Rahman \n",
      "Hello Rahman\n"
     ]
    }
   ],
   "source": [
    "print('Hello Rahman')\n",
    "print('Hello Rahman')\n",
    "print('Hello Rahman ')\n",
    "print('Hello Rahman ')\n",
    "print('Hello Rahman')\n"
   ]
  },
  {
   "cell_type": "code",
   "execution_count": 14,
   "id": "5298df82",
   "metadata": {},
   "outputs": [
    {
     "name": "stdout",
     "output_type": "stream",
     "text": [
      "Hello, Rahman\n",
      "Hello, Rahman\n",
      "Hello, Rahman\n",
      "Hello, Rahman\n",
      "Hello, Rahman\n"
     ]
    }
   ],
   "source": [
    "name = 'Rahman'\n",
    "\n",
    "\n",
    "print(f\"Hello, {name}\")\n",
    "print(f\"Hello, {name}\")\n",
    "print(f\"Hello, {name}\")\n",
    "print(f\"Hello, {name}\")\n",
    "print(f\"Hello, {name}\")\n"
   ]
  },
  {
   "cell_type": "code",
   "execution_count": 20,
   "id": "389035e6",
   "metadata": {},
   "outputs": [
    {
     "name": "stdout",
     "output_type": "stream",
     "text": [
      "Hello, Rahman and I am 28 years old\n",
      "Hello, Rahman and I am 28 years old\n"
     ]
    }
   ],
   "source": [
    "name = 'Rahman'\n",
    "age = 28\n",
    "\n",
    "print('Hello, ' +name+ ' and I am '+str(age)+ ' years old')\n",
    "\n",
    "print(f\"Hello, {name} and I am {age } years old\")"
   ]
  },
  {
   "cell_type": "code",
   "execution_count": 23,
   "id": "3b0ee346",
   "metadata": {},
   "outputs": [
    {
     "name": "stdout",
     "output_type": "stream",
     "text": [
      "<class 'int'>\n"
     ]
    }
   ],
   "source": [
    "age = '24'\n",
    "age = int(age)\n",
    "\n",
    "print(type(age))\n",
    "\n"
   ]
  },
  {
   "cell_type": "code",
   "execution_count": null,
   "id": "53d8800d",
   "metadata": {},
   "outputs": [],
   "source": []
  }
 ],
 "metadata": {
  "kernelspec": {
   "display_name": "Python 3",
   "language": "python",
   "name": "python3"
  },
  "language_info": {
   "codemirror_mode": {
    "name": "ipython",
    "version": 3
   },
   "file_extension": ".py",
   "mimetype": "text/x-python",
   "name": "python",
   "nbconvert_exporter": "python",
   "pygments_lexer": "ipython3",
   "version": "3.12.1"
  }
 },
 "nbformat": 4,
 "nbformat_minor": 5
}
